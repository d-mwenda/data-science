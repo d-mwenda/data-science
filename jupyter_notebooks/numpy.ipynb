{
 "cells": [
  {
   "cell_type": "markdown",
   "metadata": {},
   "source": [
    "<h1>Numpy</h1>\n",
    "It's a python library for working with arrays.<br>\n",
    "It also ships with functions for working in the domain of linear algebra, fourier transform and matrices."
   ]
  },
  {
   "cell_type": "markdown",
   "metadata": {},
   "source": [
    "Numpy's array object is called <strong><i>ndarray</i></strong> and it has numerous supporting functions. Numpy's array object is multiple times faster and efficient than python's built-in lists."
   ]
  },
  {
   "cell_type": "code",
   "execution_count": 5,
   "metadata": {},
   "outputs": [
    {
     "name": "stdout",
     "output_type": "stream",
     "text": [
      "1.19.0\n"
     ]
    }
   ],
   "source": [
    "# testing numpy is installed in the current environment.\n",
    "import numpy as np\n",
    "print(np.__version__)"
   ]
  },
  {
   "cell_type": "code",
   "execution_count": 9,
   "metadata": {},
   "outputs": [
    {
     "name": "stdout",
     "output_type": "stream",
     "text": [
      "<class 'list'>\n",
      "<class 'tuple'>\n",
      "<class 'numpy.ndarray'>\n",
      "<class 'numpy.ndarray'>\n",
      "[1, 2, 3, 4, 5]\n",
      "(1, 2, 3, 4, 5)\n",
      "[1 2 3 4 5]\n",
      "[1 2 3 4 5]\n"
     ]
    }
   ],
   "source": [
    "l = [1,2,3,4,5]\n",
    "t = (1,2,3,4,5)\n",
    "arr = np.array(l)\n",
    "arr2 = np.array(t)\n",
    "\n",
    "print(type(l))\n",
    "print(type(t))\n",
    "print(type(arr))\n",
    "print(type(arr2))\n",
    "\n",
    "print(l)\n",
    "print(t)\n",
    "print(arr)\n",
    "print(arr2)"
   ]
  },
  {
   "cell_type": "markdown",
   "metadata": {},
   "source": [
    "<h2>Dimensions in Arrays</h2>\n",
    "A dimension in arrays is one level of array depth (nested arrays).<br>\n",
    "<h3>0-D Arrays (Scalars)</h3>\n",
    "Elements in an array. Each element is a 0-D array.\n",
    "<h3>1-D Array /Uni-dimensional Array</h3>\n",
    "An array that's made up of 0-D arays.\n",
    "<h3>2-D Arrays</h3>\n",
    "An arrays that's has 1-D arrays as it's elements. They often represent matrix or 2nd order tensors.\n",
    "<h3>3-D Arrays</h3>\n",
    "An array that has 2-D arrays as its elements.\n",
    "<h3>Checking the number of Dimensions</h3>\n",
    "<strong><i>ndim</i></strong> is the array attribute that returns a integer that tells how many dimensions the array has."
   ]
  },
  {
   "cell_type": "code",
   "execution_count": 17,
   "metadata": {},
   "outputs": [
    {
     "name": "stdout",
     "output_type": "stream",
     "text": [
      "42\n",
      "Dimensions: 0\n",
      "[1 2 3 4 5]\n",
      "Dimensions: 1\n",
      "[[1 2 3]\n",
      " [4 5 6]]\n",
      "Dimensions: 2\n",
      "[[[ 1  2  3]\n",
      "  [ 4  5  6]]\n",
      "\n",
      " [[ 7  8  9]\n",
      "  [10 11 12]]]\n",
      "Dimensions: 3\n"
     ]
    }
   ],
   "source": [
    "a = np.array(42)\n",
    "print(a)\n",
    "print(\"Dimensions:\", a.ndim)\n",
    "b = np.array([1, 2, 3, 4,5])\n",
    "print(b)\n",
    "print(\"Dimensions:\", b.ndim)\n",
    "c = np.array([[1, 2, 3], [4, 5, 6]])\n",
    "print(c)\n",
    "print(\"Dimensions:\", c.ndim)\n",
    "d = np.array([[[1, 2, 3], [4, 5, 6]], [[7, 8, 9],[10, 11, 12]]])\n",
    "print(d)\n",
    "print(\"Dimensions:\", d.ndim)"
   ]
  },
  {
   "cell_type": "markdown",
   "metadata": {},
   "source": [
    "<h3> Higher Dimensional Arrays</h3>\n",
    "An array can have any number of dimensions.<br>\n",
    "When an array is created, passing the <strong><i>ndmin</i></strong> argument can be used to specify the dimensions."
   ]
  },
  {
   "cell_type": "code",
   "execution_count": 19,
   "metadata": {},
   "outputs": [
    {
     "name": "stdout",
     "output_type": "stream",
     "text": [
      "[[[[[1 2 3 4 5]]]]]\n",
      "5\n"
     ]
    }
   ],
   "source": [
    "arr = np.array([1, 2, 3, 4, 5], ndmin=5)\n",
    "print(arr)\n",
    "print(arr.ndim)"
   ]
  },
  {
   "cell_type": "markdown",
   "metadata": {},
   "source": [
    "<h2>Numpy Array Indexing</h2>\n",
    "You can access any element by referring to its index number. Indexing begins at 0.<br>\n",
    "For multi-dimensional arrays, use comma separated integers representing the dimension and the index of the element."
   ]
  },
  {
   "cell_type": "code",
   "execution_count": 26,
   "metadata": {},
   "outputs": [
    {
     "name": "stdout",
     "output_type": "stream",
     "text": [
      "1\n",
      "2\n",
      "3\n",
      "4\n",
      "7\n",
      "3nd element on 1st dim:  2\n",
      "3rd element of the 2nd dimension:  8\n",
      "6\n"
     ]
    }
   ],
   "source": [
    "arr = np.array([1, 2, 3, 4])\n",
    "print(arr[0])\n",
    "print(arr[1])\n",
    "print(arr[2])\n",
    "print(arr[3])\n",
    "print(arr[2] + arr[3])\n",
    "\n",
    "# multi-dimensional arrays.\n",
    "# Access the 2nd element on the 1st dimension\n",
    "arr = np.array([[1,2,3,4,5], [6,7,8,9,10]])\n",
    "print('3nd element on 1st dim: ', arr[0, 1])\n",
    "# Access the 3 element on the 2nd dimension\n",
    "print('3rd element of the 2nd dimension: ', arr[1, 2])\n",
    "\n",
    "# 3 dimensional array\n",
    "# Access the third element of the second array of the first array\n",
    "arr = np.array([[[1, 2, 3], [4, 5, 6]], [[7, 8, 9], [10, 11, 12]]])\n",
    "print(arr[0, 1, 2])"
   ]
  },
  {
   "cell_type": "markdown",
   "metadata": {},
   "source": [
    "<h3>Negative indexing</h3>\n",
    "Use Negative indexing to access an array from the end."
   ]
  },
  {
   "cell_type": "code",
   "execution_count": 28,
   "metadata": {},
   "outputs": [
    {
     "name": "stdout",
     "output_type": "stream",
     "text": [
      "10\n",
      "10\n"
     ]
    }
   ],
   "source": [
    "arr = np.array([[1,2,3,4,5], [6,7,8,9,10]])\n",
    "# print the last element from the second dimension.\n",
    "print(arr[-1, -1])\n",
    "print(arr[1, -1])"
   ]
  },
  {
   "cell_type": "code",
   "execution_count": 13,
   "metadata": {},
   "outputs": [
    {
     "name": "stdout",
     "output_type": "stream",
     "text": [
      "[2 3 4]\n",
      "[1 2 3 4]\n",
      "[5 6 7]\n",
      "[1 2 3 4 5 6 7]\n",
      "[1 3 5 7]\n",
      "[1 2 3 4 5]\n",
      "[]\n",
      "[3 4 5]\n"
     ]
    }
   ],
   "source": [
    "## Slicing Arrays\n",
    "This involves taking elements from one given index to another given index.<br>\n",
    "The is done by passing slice like this: <strong>[start:end]</strong><br>\n",
    "We can define the step like this: <strong>[start:end:step]</strong><br>\n",
    "If pass is not passed it is considered 0<br>\n",
    "If end is not passed it is considered the length of the array in that dimension.<br>\n",
    "If step is not passed it is considered 1\n",
    "To slice from the end, use negative indexing."
   ]
  },
  {
   "cell_type": "markdown",
   "metadata": {},
   "source": [
    "import numpy as np\n",
    "\n",
    "arr = np.array([1, 2, 3, 4, 5, 6, 7])\n",
    "\n",
    "print(arr[1:4])\n",
    "print(arr[:4])\n",
    "print(arr[4:])\n",
    "print(arr[:])\n",
    "print(arr[::2])\n",
    "print(arr[:-2])\n",
    "#  In reverse indexing, the order of the indices should be reverse chronology\n",
    "print(arr[-2:-5])\n",
    "print(arr[-5:-2])"
   ]
  },
  {
   "cell_type": "code",
   "execution_count": 18,
   "metadata": {},
   "outputs": [
    {
     "name": "stdout",
     "output_type": "stream",
     "text": [
      "[7 8 9]\n",
      "[3 8]\n",
      "[[2 3 4]\n",
      " [7 8 9]]\n"
     ]
    }
   ],
   "source": [
    "### Slicing 2-D Arrays"
   ]
  },
  {
   "cell_type": "markdown",
   "metadata": {},
   "source": [
    "import numpy as np\n",
    "\n",
    "arr = np.array([[1, 2, 3, 4, 5], [6, 7, 8, 9, 10]])\n",
    "\n",
    "# From the second element, slice elements from index 1 to index 4\n",
    "print(arr[1, 1:4])\n",
    "\n",
    "#  from both elements return index 2.\n",
    "print(arr[0:2, 2])\n",
    "\n",
    "# From both elements, slice index 1 to index 4 (not included)\n",
    "print(arr[0:2, 1:4])"
   ]
  },
  {
   "cell_type": "markdown",
   "metadata": {},
   "source": [
    "## Numpy Data Types"
   ]
  },
  {
   "cell_type": "code",
   "execution_count": 23,
   "metadata": {},
   "outputs": [
    {
     "name": "stdout",
     "output_type": "stream",
     "text": [
      "int64\n",
      "<U5\n"
     ]
    }
   ],
   "source": [
    "Python has the below data types:\n",
    "* strings\n",
    "* integer\n",
    "* float\n",
    "* boolean\n",
    "* complex\n",
    "Numpy has some extra datatypes and refers to data types with one character. Below is a list of numpy data types and the characters used to represent them.\n",
    "* **i** - nteger\n",
    "* **b** - boolean\n",
    "* **u**- unsigned boolean\n",
    "* **f** float\n",
    "* **c**- complex float\n",
    "* **m** - timedelta\n",
    "* **M** - datetime\n",
    "* **O** - object\n",
    "* **S** - string\n",
    "* **U** - unicode string\n",
    "* **V** - fixed chunk of memory for other type ( void )\n",
    "### Checking the Data Type of an Array\n",
    "The numpy array object has a property called **dtype** that returns the data type of the array."
   ]
  },
  {
   "cell_type": "markdown",
   "metadata": {},
   "source": [
    "import numpy as np\n",
    "\n",
    "arr = np.array([1, 2, 3, 4, 5])\n",
    "\n",
    "print(arr.dtype)\n",
    "\n",
    "arr = np.array(['Mon', 'Tue', 'Wed', 'Thurs'])\n",
    "\n",
    "print(arr.dtype)"
   ]
  },
  {
   "cell_type": "code",
   "execution_count": 29,
   "metadata": {},
   "outputs": [
    {
     "name": "stdout",
     "output_type": "stream",
     "text": [
      "|S1\n",
      "int32\n"
     ]
    }
   ],
   "source": [
    "#### Creating Arrays with a Defined Data Type\n",
    "The array() function takes optional argument: dtype that allows us to defined the expected data types of array elements.<br>\n",
    "For i, u, f, S and U we can define the size as well.<br>\n",
    "**What if the passed argument doesn't represent a valid numpy data type?** Numpy will raise a Type error.<br>\n",
    "**What is a value cannot be casted?** Numpy will raise a Value error"
   ]
  },
  {
   "cell_type": "markdown",
   "metadata": {},
   "source": [
    "import numpy as np\n",
    "\n",
    "arr = np.array([1, 2, 3, 4, 5], dtype='S')\n",
    "\n",
    "print(arr.dtype)\n",
    "\n",
    "#  array with 4 bytes integers\n",
    "arr = np.array([1, 2, 3, 4, 5], dtype='i4')\n",
    "\n",
    "print(arr.dtype)"
   ]
  },
  {
   "cell_type": "code",
   "execution_count": 1,
   "metadata": {},
   "outputs": [
    {
     "output_type": "stream",
     "name": "stdout",
     "text": [
      "[1.1 2.2 3.3 4.4 5.5]\nfloat64\n[1 2 3 4 5]\nint32\n[False  True  True]\nbool\n"
     ]
    }
   ],
   "source": [
    "#### Converting Data Type of Existing Arrays\n",
    "The best way to change the data type of an existing array is to make a copy of the array with the astype() method."
   ]
  },
  {
   "cell_type": "markdown",
   "metadata": {},
   "source": [
    "import numpy as np\n",
    "\n",
    "arr = np.array([1.1, 2.2, 3.3, 4.4, 5.5])\n",
    "\n",
    "newarr = arr.astype('i')\n",
    "\n",
    "print(arr)\n",
    "print(arr.dtype)\n",
    "print(newarr)\n",
    "print(newarr.dtype)\n",
    "\n",
    "arr = np.array([0, 1, 2])\n",
    "arr2 = arr.astype(bool)\n",
    "print(arr2)\n",
    "print(arr2.dtype)"
   ]
  },
  {
   "cell_type": "code",
   "execution_count": 4,
   "metadata": {},
   "outputs": [
    {
     "output_type": "stream",
     "name": "stdout",
     "text": [
      "[42  2  3  4  5]\n[1 2 3 4 5]\n"
     ]
    }
   ],
   "source": [
    "## Numpy Array Copy vs View\n",
    "A copy and a view of an array differ from one another in that the copy is a new array while the view is just a view of the original array. The copy owns the data and any changes made to the copy do not affect the original array, and at the same time subsequent changes made to the original will not affect the copy. The view does not own the data and any changes made to the view will affect the original array, and any changes made to the original array will affect the view."
   ]
  },
  {
   "cell_type": "code",
   "execution_count": 5,
   "metadata": {},
   "outputs": [
    {
     "output_type": "stream",
     "name": "stdout",
     "text": [
      "[42  2  3  4  5]\n[42  2  3  4  5]\n"
     ]
    }
   ],
   "source": [
    "import numpy as np\n",
    "\n",
    "arr = np.array([1, 2, 3, 4, 5])\n",
    "x = arr.copy()\n",
    "arr[0] = 42\n",
    "\n",
    "print(arr)\n",
    "print(x)\n"
   ]
  },
  {
   "source": [
    "import numpy as np\n",
    "\n",
    "arr = np.array([1, 2, 3, 4, 5])\n",
    "x = arr.view()\n",
    "arr[0] = 42\n",
    "\n",
    "print(arr)\n",
    "print(x)"
   ],
   "cell_type": "markdown",
   "metadata": {}
  },
  {
   "cell_type": "code",
   "execution_count": 7,
   "metadata": {},
   "outputs": [
    {
     "output_type": "stream",
     "name": "stdout",
     "text": [
      "None\n[1 2 3 4 5]\n"
     ]
    }
   ],
   "source": [
    "### Check if Array owns it's Data\n",
    "Every Numpy array has the attribute base that returns None if the array owns the data. Otherwise, the base attribute refers to the original object."
   ]
  },
  {
   "source": [
    "import numpy as np\n",
    "\n",
    "arr = np.array([1, 2, 3, 4, 5])\n",
    "\n",
    "x = arr.copy()\n",
    "y = arr.view()\n",
    "\n",
    "print(x.base)\n",
    "print(y.base)"
   ],
   "cell_type": "markdown",
   "metadata": {}
  },
  {
   "cell_type": "code",
   "execution_count": 13,
   "metadata": {},
   "outputs": [
    {
     "output_type": "stream",
     "name": "stdout",
     "text": [
      "Shape:  (2, 4)\nDimension of the same array: 2\n[[[[[1 2 3 4]]]]]\nshape of array:  (1, 1, 1, 1, 4)\nDimension of the same array:  5\n"
     ]
    }
   ],
   "source": [
    "## Numpy Array Shape\n",
    "### Shape of an Array\n",
    "The share of an aray is the number of elements in each dimension.\n",
    "### Get the Shape of an Array\n",
    "Each Numpy array has an attribute called shape that returns a tuple with each index having the number of corresponding elements. Integers at every index of the tuple tells about the number of elements the corresponding dimension has."
   ]
  },
  {
   "source": [
    "import numpy as np\n",
    "\n",
    "arr = np.array([[1, 2, 3, 4], [5, 6, 7, 8]])\n",
    "\n",
    "print(\"Shape: \", arr.shape)\n",
    "print(\"Dimension of the same array:\", arr.ndim)\n",
    "\n",
    "arr = np.array([1, 2, 3, 4], ndmin=5)\n",
    "\n",
    "print(arr)\n",
    "print(\"shape of array: \", arr.shape) \n",
    "print(\"Dimension of the same array: \", arr.ndim) \n"
   ],
   "cell_type": "markdown",
   "metadata": {}
  },
  {
   "cell_type": "code",
   "execution_count": 2,
   "metadata": {},
   "outputs": [
    {
     "output_type": "stream",
     "name": "stdout",
     "text": [
      "Original array: [ 1  2  3  4  5  6  7  8  9 10 11 12]\nOriginal array shape: (12,)\nOriginal array dimension: 1\nNew array:\n [[ 1  2  3]\n [ 4  5  6]\n [ 7  8  9]\n [10 11 12]]\nNew array shape: (4, 3)\nNew array dimensions: 2\n"
     ]
    }
   ],
   "source": [
    "## Reshaping Arrays\n",
    "Reshaping entails changing the shape of an Array. By reshaping, we can add or remove dimensions or change number of elements in each dimension.\n",
    "### Reshaping from 1-D to 2-D\n",
    "Below code snippet"
   ]
  },
  {
   "source": [
    "import numpy as np\n",
    "\n",
    "arr = np.array([1, 2, 3, 4, 5, 6, 7, 8, 9, 10, 11, 12])\n",
    "print(\"Original array:\", arr)\n",
    "print(\"Original array shape:\", arr.shape)\n",
    "print(\"Original array dimension:\", arr.ndim)\n",
    "\n",
    "newarr = arr.reshape(4, 3)\n",
    "\n",
    "print(\"New array:\\n\", newarr)\n",
    "print(\"New array shape:\", newarr.shape)\n",
    "print(\"New array dimensions:\", newarr.ndim)\n"
   ],
   "cell_type": "markdown",
   "metadata": {}
  },
  {
   "cell_type": "code",
   "execution_count": 1,
   "metadata": {},
   "outputs": [
    {
     "output_type": "stream",
     "name": "stdout",
     "text": [
      "[[[ 1  2]\n  [ 3  4]\n  [ 5  6]]\n\n [[ 7  8]\n  [ 9 10]\n  [11 12]]]\n3\n"
     ]
    }
   ],
   "source": [
    "### Reshape From 1-D to 3-D"
   ]
  },
  {
   "source": [
    "import numpy as np\n",
    "\n",
    "arr = np.array([1, 2, 3, 4, 5, 6, 7, 8, 9, 10, 11, 12])\n",
    "\n",
    "new_array = arr.reshape(2, 3, 2)\n",
    "print(new_array)\n",
    "print(new_array.ndim)\n"
   ],
   "cell_type": "markdown",
   "metadata": {}
  },
  {
   "cell_type": "code",
   "execution_count": 5,
   "metadata": {},
   "outputs": [
    {
     "output_type": "stream",
     "name": "stdout",
     "text": [
      "[[1 2 3 4]\n [5 6 7 8]]\n[1 2 3 4 5 6 7 8]\n"
     ]
    }
   ],
   "source": [
    "## Can we Reshape into any Shape?\n",
    "Short answer: Yes <br>\n",
    "Long answer: It is required that the number of elements required for reshaping is equal to the number of elements in the original array.\n",
    "## Is reshaping copying of viewing?\n",
    "Reshaping is viewing."
   ]
  },
  {
   "source": [
    "import numpy as np\n",
    "\n",
    "arr = np.array([1, 2, 3, 4, 5, 6, 7, 8])\n",
    "\n",
    "print(arr.reshape(2, 4))\n",
    "print(arr.reshape(2, 4).base)\n"
   ],
   "cell_type": "markdown",
   "metadata": {}
  },
  {
   "cell_type": "code",
   "execution_count": 8,
   "metadata": {},
   "outputs": [
    {
     "output_type": "stream",
     "name": "stdout",
     "text": [
      "array [[[1 2]\n  [3 4]]\n\n [[5 6]\n  [7 8]]]\ndimensions: 3\nshape: (2, 2, 2)\n"
     ]
    }
   ],
   "source": [
    "## Unknown Dimension\n",
    "It is allowed to have one Unknown Dimension. You do not have to specify the exact number for one of the dimensions in the reshape method.<br>\n",
    "By passing -1 as the value, NumPy will calculate this number for you. -1 cannot be passed to more than one dimension."
   ]
  },
  {
   "cell_type": "code",
   "execution_count": 1,
   "metadata": {},
   "outputs": [
    {
     "output_type": "stream",
     "name": "stdout",
     "text": [
      "array [[[1 2]\n  [3 4]]\n\n [[5 6]\n  [7 8]]]\ndimensions: 3\nshape: (2, 2, 2)\n"
     ]
    }
   ],
   "source": [
    "import numpy as np\n",
    "\n",
    "arr = np.array([1, 2, 3, 4, 5, 6, 7, 8])\n",
    "\n",
    "newarr = arr.reshape(2, 2, -1)\n",
    "\n",
    "print(\"array\", newarr)\n",
    "print(\"dimensions:\", newarr.ndim)\n",
    "print(\"shape:\", newarr.shape)"
   ]
  },
  {
   "source": [
    "## Flattening the arrays\n",
    "Flattening means converting a multidimensional array into a 1D array. we can use **reshape(-1)** to do this."
   ],
   "cell_type": "markdown",
   "metadata": {}
  },
  {
   "cell_type": "code",
   "execution_count": 2,
   "metadata": {},
   "outputs": [
    {
     "output_type": "stream",
     "name": "stdout",
     "text": [
      "[1 2 3 4 5 6]\n"
     ]
    }
   ],
   "source": [
    "import numpy as np\n",
    "\n",
    "arr = np.array([[1, 2, 3], [4, 5, 6]])\n",
    "\n",
    "newarr = arr.reshape(-1)\n",
    "\n",
    "print(newarr) "
   ]
  },
  {
   "source": [
    "## Numpy Iterating\n",
    "### Iterating Arrays\n",
    "Iterating means going through elements one by one. A for loop can be used to iterate arrays.<br>\n",
    "Below is a example with a 1-D array."
   ],
   "cell_type": "markdown",
   "metadata": {}
  },
  {
   "cell_type": "code",
   "execution_count": 3,
   "metadata": {},
   "outputs": [
    {
     "output_type": "stream",
     "name": "stdout",
     "text": [
      "1\n2\n3\n"
     ]
    }
   ],
   "source": [
    "import numpy as np\n",
    "\n",
    "arr = np.array([1, 2, 3])\n",
    "\n",
    "for x in arr:\n",
    "  print(x)"
   ]
  },
  {
   "source": [
    "### Iterating Multidimensional Arrays\n",
    "Iterating an n-D array goes through n-1th dimension one by one."
   ],
   "cell_type": "markdown",
   "metadata": {}
  },
  {
   "cell_type": "code",
   "execution_count": 10,
   "metadata": {},
   "outputs": [
    {
     "output_type": "stream",
     "name": "stdout",
     "text": [
      "[1 2 3]\n[4 5 6]\n[[1 2 3]\n [4 5 6]]\n[[ 7  8  9]\n [10 11 12]]\n"
     ]
    }
   ],
   "source": [
    "import numpy as np\n",
    "# 2-d Array\n",
    "arr = np.array([[1, 2, 3], [4, 5, 6]])\n",
    "\n",
    "for x in arr:\n",
    "  print(x)\n",
    "\n",
    "# 3-d Array\n",
    "arr = np.array([[[1, 2, 3], [4, 5, 6]], [[7, 8, 9], [10, 11, 12]]])\n",
    "\n",
    "for x in arr:\n",
    "  print(x)"
   ]
  },
  {
   "source": [
    "## Iterating Arrays Using nditer()\n",
    "The function nditer() is a helper function that can be used from a vast range of iterations.\n",
    "### Iterating on each Scalar Element\n",
    "Using nditer() we can loop through any n-D array to get each element. Were we using basic for loops, we would have to write n for loops - clumsy, right?."
   ],
   "cell_type": "markdown",
   "metadata": {}
  },
  {
   "cell_type": "code",
   "execution_count": 12,
   "metadata": {},
   "outputs": [
    {
     "output_type": "stream",
     "name": "stdout",
     "text": [
      "1\n2\n3\n4\n5\n6\n7\n8\n"
     ]
    }
   ],
   "source": [
    "import numpy as np\n",
    "\n",
    "arr = np.array([[[1, 2], [3, 4]], [[5, 6], [7, 8]]])\n",
    "\n",
    "for x in np.nditer(arr):\n",
    "  print(x) "
   ]
  },
  {
   "source": [
    "## Iterating Array with Different Data Types\n",
    "We can use **op_dtypes** argument and pass it the expected datatype to change the datatype of elements while iterating. Since Numpy does not change the data tyoe of the element in-place, it needs some space to perform this action. This extra space is called buffer, and in order to enable it in nditer() we pass the **flags=\\['buffered']**"
   ],
   "cell_type": "markdown",
   "metadata": {}
  },
  {
   "cell_type": "code",
   "execution_count": 13,
   "metadata": {},
   "outputs": [
    {
     "output_type": "stream",
     "name": "stdout",
     "text": [
      "b'1'\nb'2'\nb'3'\n"
     ]
    }
   ],
   "source": [
    "import numpy as np\n",
    "\n",
    "arr = np.array([1, 2, 3])\n",
    "\n",
    "for x in np.nditer(arr, flags=['buffered'], op_dtypes=['S']):\n",
    "  print(x) "
   ]
  },
  {
   "source": [
    "## Iterating With Different Step Size\n",
    "To iterating using steps different from 1, we can use filtering and iterating."
   ],
   "cell_type": "markdown",
   "metadata": {}
  },
  {
   "cell_type": "code",
   "execution_count": 14,
   "metadata": {},
   "outputs": [
    {
     "output_type": "stream",
     "name": "stdout",
     "text": [
      "1\n3\n5\n7\n"
     ]
    }
   ],
   "source": [
    "import numpy as np\n",
    "\n",
    "arr = np.array([[1, 2, 3, 4], [5, 6, 7, 8]])\n",
    "\n",
    "for x in np.nditer(arr[:, ::2]):\n",
    "  print(x) "
   ]
  },
  {
   "source": [
    "## Enumerated Iteration Using ndenumerate()\n",
    "Enumeration means mentioning sequence number of somethings one by one. If we need the corresponding index og the element while iterating, the **ndenumerate**() method can be used."
   ],
   "cell_type": "markdown",
   "metadata": {}
  },
  {
   "cell_type": "code",
   "execution_count": 18,
   "metadata": {},
   "outputs": [
    {
     "output_type": "stream",
     "name": "stdout",
     "text": [
      "(0,) 1\n(1,) 2\n(2,) 3\n(0, 0) 1\n(0, 1) 2\n(0, 2) 3\n(0, 3) 4\n(1, 0) 5\n(1, 1) 6\n(1, 2) 7\n(1, 3) 8\n"
     ]
    }
   ],
   "source": [
    "import numpy as np\n",
    "\n",
    "# 1-D array\n",
    "arr = np.array([1, 2, 3])\n",
    "\n",
    "for idx, x in np.ndenumerate(arr):\n",
    "  print(idx, x)\n",
    "\n",
    "#  2-D Array\n",
    "arr = np.array([[1, 2, 3, 4], [5, 6, 7, 8]])\n",
    "\n",
    "for idx, x in np.ndenumerate(arr):\n",
    "  print(idx, x) "
   ]
  },
  {
   "cell_type": "code",
   "execution_count": null,
   "metadata": {},
   "outputs": [],
   "source": []
  }
 ],
 "metadata": {
  "kernelspec": {
   "display_name": "Python 3.8.5 64-bit ('data-science': venv)",
   "language": "python",
   "name": "python38564bitdatasciencevenv7bf39078bbc0474396ed0ed87dbb96d3"
  },
  "language_info": {
   "codemirror_mode": {
    "name": "ipython",
    "version": 3
   },
   "file_extension": ".py",
   "mimetype": "text/x-python",
   "name": "python",
   "nbconvert_exporter": "python",
   "pygments_lexer": "ipython3",
   "version": "3.8.5-final"
  }
 },
 "nbformat": 4,
 "nbformat_minor": 2
}