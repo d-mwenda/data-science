{
 "cells": [
  {
   "cell_type": "markdown",
   "metadata": {},
   "source": [
    "<h1>Numpy</h1>\n",
    "It's a python library for working with arrays.<br>\n",
    "It also ships with functions for working in the domain of linear algebra, fourier transform and matrices."
   ]
  },
  {
   "cell_type": "markdown",
   "metadata": {},
   "source": [
    "Numpy's array object is called <strong><i>ndarray</i></strong> and it has numerous supporting functions. Numpy's array object is multiple times faster and efficient than python's built-in lists."
   ]
  },
  {
   "cell_type": "code",
   "execution_count": 5,
   "metadata": {},
   "outputs": [
    {
     "name": "stdout",
     "output_type": "stream",
     "text": [
      "1.19.0\n"
     ]
    }
   ],
   "source": [
    "# testing numpy is installed in the current environment.\n",
    "import numpy as np\n",
    "print(np.__version__)"
   ]
  },
  {
   "cell_type": "code",
   "execution_count": 9,
   "metadata": {},
   "outputs": [
    {
     "name": "stdout",
     "output_type": "stream",
     "text": [
      "<class 'list'>\n",
      "<class 'tuple'>\n",
      "<class 'numpy.ndarray'>\n",
      "<class 'numpy.ndarray'>\n",
      "[1, 2, 3, 4, 5]\n",
      "(1, 2, 3, 4, 5)\n",
      "[1 2 3 4 5]\n",
      "[1 2 3 4 5]\n"
     ]
    }
   ],
   "source": [
    "l = [1,2,3,4,5]\n",
    "t = (1,2,3,4,5)\n",
    "arr = np.array(l)\n",
    "arr2 = np.array(t)\n",
    "\n",
    "print(type(l))\n",
    "print(type(t))\n",
    "print(type(arr))\n",
    "print(type(arr2))\n",
    "\n",
    "print(l)\n",
    "print(t)\n",
    "print(arr)\n",
    "print(arr2)"
   ]
  },
  {
   "cell_type": "markdown",
   "metadata": {},
   "source": [
    "<h2>Dimensions in Arrays</h2>\n",
    "A dimension in arrays is one level of array depth (nested arrays).<br>\n",
    "<h3>0-D Arrays (Scalars)</h3>\n",
    "Elements in an array. Each element is a 0-D array.\n",
    "<h3>1-D Array /Uni-dimensional Array</h3>\n",
    "An array that's made up of 0-D arays.\n",
    "<h3>2-D Arrays</h3>\n",
    "An arrays that's has 1-D arrays as it's elements. They often represent matrix or 2nd order tensors.\n",
    "<h3>3-D Arrays</h3>\n",
    "An array that has 2-D arrays as its elements.\n",
    "<h3>Checking the number of Dimensions</h3>\n",
    "<strong><i>ndim</i></strong> is the array attribute that returns a integer that tells how many dimensions the array has."
   ]
  },
  {
   "cell_type": "code",
   "execution_count": 17,
   "metadata": {},
   "outputs": [
    {
     "name": "stdout",
     "output_type": "stream",
     "text": [
      "42\n",
      "Dimensions: 0\n",
      "[1 2 3 4 5]\n",
      "Dimensions: 1\n",
      "[[1 2 3]\n",
      " [4 5 6]]\n",
      "Dimensions: 2\n",
      "[[[ 1  2  3]\n",
      "  [ 4  5  6]]\n",
      "\n",
      " [[ 7  8  9]\n",
      "  [10 11 12]]]\n",
      "Dimensions: 3\n"
     ]
    }
   ],
   "source": [
    "a = np.array(42)\n",
    "print(a)\n",
    "print(\"Dimensions:\", a.ndim)\n",
    "b = np.array([1, 2, 3, 4,5])\n",
    "print(b)\n",
    "print(\"Dimensions:\", b.ndim)\n",
    "c = np.array([[1, 2, 3], [4, 5, 6]])\n",
    "print(c)\n",
    "print(\"Dimensions:\", c.ndim)\n",
    "d = np.array([[[1, 2, 3], [4, 5, 6]], [[7, 8, 9],[10, 11, 12]]])\n",
    "print(d)\n",
    "print(\"Dimensions:\", d.ndim)"
   ]
  },
  {
   "cell_type": "markdown",
   "metadata": {},
   "source": [
    "<h3> Higher Dimensional Arrays</h3>\n",
    "An array can have any number of dimensions.<br>\n",
    "When an array is created, passing the <strong><i>ndmin</i></strong> argument can be used to specify the dimensions."
   ]
  },
  {
   "cell_type": "code",
   "execution_count": 19,
   "metadata": {},
   "outputs": [
    {
     "name": "stdout",
     "output_type": "stream",
     "text": [
      "[[[[[1 2 3 4 5]]]]]\n",
      "5\n"
     ]
    }
   ],
   "source": [
    "arr = np.array([1, 2, 3, 4, 5], ndmin=5)\n",
    "print(arr)\n",
    "print(arr.ndim)"
   ]
  },
  {
   "cell_type": "markdown",
   "metadata": {},
   "source": [
    "<h2>Numpy Array Indexing</h2>\n",
    "You can access any element by referring to its index number. Indexing begins at 0.<br>\n",
    "For multi-dimensional arrays, use comma separated integers representing the dimension and the index of the element."
   ]
  },
  {
   "cell_type": "code",
   "execution_count": 26,
   "metadata": {},
   "outputs": [
    {
     "name": "stdout",
     "output_type": "stream",
     "text": [
      "1\n",
      "2\n",
      "3\n",
      "4\n",
      "7\n",
      "3nd element on 1st dim:  2\n",
      "3rd element of the 2nd dimension:  8\n",
      "6\n"
     ]
    }
   ],
   "source": [
    "arr = np.array([1, 2, 3, 4])\n",
    "print(arr[0])\n",
    "print(arr[1])\n",
    "print(arr[2])\n",
    "print(arr[3])\n",
    "print(arr[2] + arr[3])\n",
    "\n",
    "# multi-dimensional arrays.\n",
    "# Access the 2nd element on the 1st dimension\n",
    "arr = np.array([[1,2,3,4,5], [6,7,8,9,10]])\n",
    "print('3nd element on 1st dim: ', arr[0, 1])\n",
    "# Access the 3 element on the 2nd dimension\n",
    "print('3rd element of the 2nd dimension: ', arr[1, 2])\n",
    "\n",
    "# 3 dimensional array\n",
    "# Access the third element of the second array of the first array\n",
    "arr = np.array([[[1, 2, 3], [4, 5, 6]], [[7, 8, 9], [10, 11, 12]]])\n",
    "print(arr[0, 1, 2])"
   ]
  },
  {
   "cell_type": "markdown",
   "metadata": {},
   "source": [
    "<h3>Negative indexing</h3>\n",
    "Use Negative indexing to access an array from the end."
   ]
  },
  {
   "cell_type": "code",
   "execution_count": 28,
   "metadata": {},
   "outputs": [
    {
     "name": "stdout",
     "output_type": "stream",
     "text": [
      "10\n",
      "10\n"
     ]
    }
   ],
   "source": [
    "arr = np.array([[1,2,3,4,5], [6,7,8,9,10]])\n",
    "# print the last element from the second dimension.\n",
    "print(arr[-1, -1])\n",
    "print(arr[1, -1])"
   ]
  },
  {
   "cell_type": "markdown",
   "metadata": {},
   "source": [
    "## Slicing Arrays"
   ]
  },
  {
   "cell_type": "markdown",
   "metadata": {},
   "source": [
    "t"
   ]
  }
 ],
 "metadata": {
  "kernelspec": {
   "display_name": "Python 3.8.5 64-bit ('data-science': venv)",
   "language": "python",
   "name": "python38564bitdatasciencevenv7bf39078bbc0474396ed0ed87dbb96d3"
  },
  "language_info": {
   "codemirror_mode": {
    "name": "ipython",
    "version": 3
   },
   "file_extension": ".py",
   "mimetype": "text/x-python",
   "name": "python",
   "nbconvert_exporter": "python",
   "pygments_lexer": "ipython3",
   "version": "3.8.5"
  }
 },
 "nbformat": 4,
 "nbformat_minor": 2
}
